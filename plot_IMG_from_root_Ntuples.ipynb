{
 "cells": [
  {
   "cell_type": "code",
   "execution_count": 29,
   "id": "8407f48a-12d8-41f6-a05c-b41132083dff",
   "metadata": {
    "tags": []
   },
   "outputs": [],
   "source": [
    "import uproot\n",
    "import awkward as ak\n",
    "import numpy as np\n",
    "import pandas as pd\n",
    "import matplotlib.pyplot as plt\n",
    "import mplhep as hep\n",
    "import os, glob\n",
    "import matplotlib.pyplot as plt\n",
    "import matplotlib.colors as mcolors\n",
    "import mplhep as hep\n",
    "plt.style.use([hep.style.ROOT, hep.style.firamath])\n",
    "from matplotlib.colors import LinearSegmentedColormap\n",
    "# Define the CMS color scheme\n",
    "cms_colors = [\n",
    "    (0.00, '#FFFFFF'),  # White\n",
    "    (0.33, '#005EB8'),  # Blue\n",
    "    (0.66, '#FFDD00'),  # Yellow\n",
    "    (1.00, '#FF0000')   # red\n",
    "]\n",
    "\n",
    "# Create the CMS colormap\n",
    "cms_cmap = LinearSegmentedColormap.from_list('CMS', cms_colors)\n",
    "\n",
    "\n",
    "from numpy.lib.stride_tricks import as_strided\n",
    "\n",
    "\n",
    "def upsample_array(x, b0, b1):\n",
    "\n",
    "    r, c = x.shape                                    # number of rows/columns\n",
    "    rs, cs = x.strides                                # row/column strides\n",
    "    x = as_strided(x, (r, b0, c, b1), (rs, 0, cs, 0)) # view as a larger 4D array\n",
    "\n",
    "    return x.reshape(r*b0, c*b1)/(b0*b1)              # create new 2D array with same total occupancy\n",
    "\n",
    "def resample_EE(imgECAL, factor=2):\n",
    "\n",
    "    # EE-\n",
    "    imgEEm = imgECAL[:140-85] # EE- in the first 55 rows\n",
    "    imgEEm = np.pad(imgEEm, ((1,0),(0,0)), 'constant', constant_values=0) # for even downsampling, zero pad 55 -> 56\n",
    "    imgEEm_dn = block_reduce(imgEEm, block_size=(factor, factor), func=np.sum) # downsample by summing over [factor, factor] window\n",
    "    imgEEm_dn_up = upsample_array(imgEEm_dn, factor, factor)/(factor*factor) # upsample will use same values so need to correct scale by factor**2\n",
    "    imgECAL[:140-85] = imgEEm_dn_up[1:] ## replace the old EE- rows\n",
    "\n",
    "    # EE+\n",
    "    imgEEp = imgECAL[140+85:] # EE+ in the last 55 rows\n",
    "    imgEEp = np.pad(imgEEp, ((0,1),(0,0)), 'constant', constant_values=0) # for even downsampling, zero pad 55 -> 56\n",
    "    imgEEp_dn = block_reduce(imgEEp, block_size=(factor, factor), func=np.sum) # downsample by summing over [factor, factor] window\n",
    "    imgEEp_dn_up = upsample_array(imgEEp_dn, factor, factor)/(factor*factor) # upsample will use same values so need to correct scale by factor*factor\n",
    "    imgECAL[140+85:] = imgEEp_dn_up[:-1] # replace the old EE+ rows\n",
    "\n",
    "    return imgECAL\n",
    "\n",
    "def crop_jet(imgECAL, iphi, ieta, jet_shape=125):\n",
    "\n",
    "    # NOTE: jet_shape here should correspond to the one used in RHAnalyzer\n",
    "    off = jet_shape//2\n",
    "    iphi = int(iphi*5 + 2) # 5 EB xtals per HB tower\n",
    "    ieta = int(ieta*5 + 2) # 5 EB xtals per HB tower\n",
    "\n",
    "    # Wrap-around on left side\n",
    "    if iphi < off:\n",
    "        diff = off-iphi\n",
    "        img_crop = np.concatenate((imgECAL[:,ieta-off:ieta+off+1,-diff:],\n",
    "                                   imgECAL[:,ieta-off:ieta+off+1,:iphi+off+1]), axis=-1)\n",
    "    # Wrap-around on right side\n",
    "    elif 360-iphi < off:\n",
    "        diff = off - (360-iphi)\n",
    "        img_crop = np.concatenate((imgECAL[:,ieta-off:ieta+off+1,iphi-off:],\n",
    "                                   imgECAL[:,ieta-off:ieta+off+1,:diff+1]), axis=-1)\n",
    "    # Nominal case\n",
    "    else:\n",
    "        img_crop = imgECAL[:,ieta-off:ieta+off+1,iphi-off:iphi+off+1]\n",
    "\n",
    "    return img_crop"
   ]
  },
  {
   "cell_type": "code",
   "execution_count": 30,
   "id": "b619bfd2-aad1-4edc-8c92-08188f4159e5",
   "metadata": {
    "tags": []
   },
   "outputs": [],
   "source": [
    "file = uproot.open(\"../analysis/mass_regreesion_ntuples/CMSSW_10_6_20/src/MLAnalyzer/HToAATo4Tau_M10_correct_pixel_numEvent10.root\")\n",
    "RHTree = file[\"fevt/RHTree\"]"
   ]
  },
  {
   "cell_type": "code",
   "execution_count": 34,
   "id": "489703b5-5ced-456b-9171-482b2ad71f3d",
   "metadata": {
    "tags": []
   },
   "outputs": [
    {
     "name": "stdout",
     "output_type": "stream",
     "text": [
      "Number of layers 23\n"
     ]
    }
   ],
   "source": [
    "layers =[\"ECAL_energy\",\"HBHE_energy\",\"TracksAtECAL_pt\",\"TracksAtECAL_dZSig\",\"TracksAtECAL_d0Sig\",\"PixAtEcal_1\",\"PixAtEcal_2\",\n",
    "        \"PixAtEcal_3\",\"PixAtEcal_1\",\"TibAtEcal_1\",\"TibAtEcal_2\",\"TibAtEcal_3\",\"TibAtEcal_4\",\"TobAtEcal_1\",\"TobAtEcal_2\",\n",
    "        \"TobAtEcal_3\",\"TobAtEcal_4\",\"TobAtEcal_5\",\"TobAtEcal_6\",\"TecAtEcal_1\",\"TecAtEcal_2\",\"TecAtEcal_3\",\"TidAtEcal_1\"]\n",
    "print(\"Number of layers\", len(layers))\n"
   ]
  },
  {
   "cell_type": "code",
   "execution_count": null,
   "id": "f661845f-1ff0-417a-8092-654a1ca2d386",
   "metadata": {},
   "outputs": [],
   "source": [
    "ECAL_energy_ = np.array(rhTree.ECAL_energy)\n",
    "ECAL_energy__ = ECAL_energy_.reshape(280,360)\n",
    "ECAL_energy = resample_EE(ECAL_energy__)\n",
    "HBHE_energy_ = np.array(rhTree.HBHE_energy)\n",
    "HBHE_energy__ = HBHE_energy_.reshape(56,72)\n",
    "HBHE_energy = upsample_array(HBHE_energy__, 5, 5) # (280, 360)\n",
    "TracksAtECAL_pt_ = np.array(rhTree.ECAL_tracksPt_atECALfixIP)\n",
    "TracksAtECAL_pt    = TracksAtECAL_pt_.reshape(280,360)\n",
    "TracksAtECAL_dZSig_ = np.array(rhTree.ECAL_tracksDzSig_atECALfixIP)\n",
    "TracksAtECAL_dZSig = TracksAtECAL_dZSig_.reshape(280,360)\n",
    "TracksAtECAL_d0Sig_ = np.array(rhTree.ECAL_tracksD0Sig_atECALfixIP)\n",
    "TracksAtECAL_d0Sig = TracksAtECAL_d0Sig_.reshape(280,360)\n",
    "PixAtEcal_1        = np.array(rhTree.BPIX_layer1_ECAL_atPV).reshape(280,360)\n",
    "PixAtEcal_2        = np.array(rhTree.BPIX_layer2_ECAL_atPV).reshape(280,360)\n",
    "PixAtEcal_3        = np.array(rhTree.BPIX_layer3_ECAL_atPV).reshape(280,360)\n",
    "PixAtEcal_4        = np.array(rhTree.BPIX_layer4_ECAL_atPV).reshape(280,360)\n",
    "TibAtEcal_1        = np.array(rhTree.TIB_layer1_ECAL_atPV).reshape(280,360)\n",
    "TibAtEcal_2        = np.array(rhTree.TIB_layer2_ECAL_atPV).reshape(280,360)\n",
    "TibAtEcal_3        = np.array(rhTree.TIB_layer3_ECAL_atPV).reshape(280,360)\n",
    "TibAtEcal_4        = np.array(rhTree.TIB_layer4_ECAL_atPV).reshape(280,360)\n",
    "TobAtEcal_1        = np.array(rhTree.TOB_layer1_ECAL_atPV).reshape(280,360)\n",
    "TobAtEcal_2        = np.array(rhTree.TOB_layer2_ECAL_atPV).reshape(280,360)\n",
    "TobAtEcal_3        = np.array(rhTree.TOB_layer3_ECAL_atPV).reshape(280,360)\n",
    "TobAtEcal_4        = np.array(rhTree.TOB_layer4_ECAL_atPV).reshape(280,360)\n",
    "TobAtEcal_5        = np.array(rhTree.TOB_layer5_ECAL_atPV).reshape(280,360)\n",
    "TobAtEcal_6        = np.array(rhTree.TOB_layer6_ECAL_atPV).reshape(280,360)\n",
    "TecAtEcal_1        = np.array(rhTree.TEC_layer1_ECAL_atPV).reshape(280,360)\n",
    "TecAtEcal_2        = np.array(rhTree.TEC_layer2_ECAL_atPV).reshape(280,360)\n",
    "TecAtEcal_3        = np.array(rhTree.TEC_layer3_ECAL_atPV).reshape(280,360)\n",
    "TidAtEcal_1        = np.array(rhTree.TID_layer1_ECAL_atPV).reshape(280,360)"
   ]
  }
 ],
 "metadata": {
  "kernelspec": {
   "display_name": "Python 3 (ipykernel)",
   "language": "python",
   "name": "python3"
  },
  "language_info": {
   "codemirror_mode": {
    "name": "ipython",
    "version": 3
   },
   "file_extension": ".py",
   "mimetype": "text/x-python",
   "name": "python",
   "nbconvert_exporter": "python",
   "pygments_lexer": "ipython3",
   "version": "3.8.15"
  }
 },
 "nbformat": 4,
 "nbformat_minor": 5
}
